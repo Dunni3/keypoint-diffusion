{
 "cells": [
  {
   "cell_type": "code",
   "execution_count": 1,
   "metadata": {},
   "outputs": [],
   "source": [
    "import numpy as np\n",
    "import scipy.spatial as spa\n",
    "import scipy \n",
    "import prody\n",
    "from pathlib import Path\n",
    "import importlib\n",
    "from typing import Union, List, Dict\n",
    "\n",
    "import rdkit\n",
    "\n",
    "import dgl\n",
    "import torch\n",
    "\n",
    "%matplotlib widget\n",
    "from matplotlib import pyplot as plt"
   ]
  },
  {
   "cell_type": "markdown",
   "metadata": {},
   "source": [
    "# define hard-coded filepaths"
   ]
  },
  {
   "cell_type": "code",
   "execution_count": 2,
   "metadata": {},
   "outputs": [],
   "source": [
    "DEV_INDEX_PATH = '/home/ian/projects/mol_diffusion/ligdiff/data/PDBbind_processed/train_index_mini.txt'\n",
    "DEV_DATA_DIR = '/home/ian/projects/mol_diffusion/ligdiff/data/PDBbind/refined-set'\n",
    "DEV_PROCESSED_DATA_DIR = '/home/ian/projects/mol_diffusion/ligdiff/data/PDBbind_processed/processed_data'\n",
    "\n",
    "DEV_DATA_DIR = Path(DEV_DATA_DIR)"
   ]
  },
  {
   "cell_type": "markdown",
   "metadata": {},
   "source": [
    "# import code for processing pdbbind"
   ]
  },
  {
   "cell_type": "code",
   "execution_count": 3,
   "metadata": {},
   "outputs": [],
   "source": [
    "try:\n",
    "    importlib.reload(process_pdbbind)\n",
    "    importlib.reload(pdbbind_dataset)\n",
    "except NameError:\n",
    "    import data_processing.pdbbind_processing as process_pdbbind\n",
    "    import data_processing.pdbbind_dataset as pdbbind_dataset\n",
    "\n",
    "parse_protein = process_pdbbind.parse_protein\n",
    "parse_ligand = process_pdbbind.parse_ligand\n",
    "get_pocket_atoms = process_pdbbind.get_pocket_atoms\n",
    "build_receptor_graph = process_pdbbind.build_receptor_graph\n",
    "\n",
    "PDBbind = pdbbind_dataset.PDBbind\n",
    "rec_atom_elements = pdbbind_dataset.rec_atom_elements\n",
    "lig_atom_elements = pdbbind_dataset.lig_atom_elements"
   ]
  },
  {
   "cell_type": "markdown",
   "metadata": {},
   "source": [
    "# create dataset object"
   ]
  },
  {
   "cell_type": "code",
   "execution_count": 9,
   "metadata": {},
   "outputs": [
    {
     "name": "stderr",
     "output_type": "stream",
     "text": [
      "@> 4858 atoms and 1 coordinate set(s) were parsed in 0.02s.\n",
      "@> 10035 atoms and 1 coordinate set(s) were parsed in 0.05s.\n",
      "@> 9039 atoms and 1 coordinate set(s) were parsed in 0.04s.\n",
      "@> 8961 atoms and 1 coordinate set(s) were parsed in 0.04s.\n",
      "@> 21443 atoms and 1 coordinate set(s) were parsed in 0.11s.\n",
      "@> 17244 atoms and 1 coordinate set(s) were parsed in 0.09s.\n",
      "@> 66431 atoms and 1 coordinate set(s) were parsed in 0.33s.\n",
      "@> 66974 atoms and 1 coordinate set(s) were parsed in 0.35s.\n",
      "@> 67572 atoms and 1 coordinate set(s) were parsed in 0.32s.\n",
      "@> 66997 atoms and 1 coordinate set(s) were parsed in 0.33s.\n",
      "@> 66629 atoms and 1 coordinate set(s) were parsed in 0.40s.\n",
      "@> 67081 atoms and 1 coordinate set(s) were parsed in 0.34s.\n",
      "@> 67306 atoms and 1 coordinate set(s) were parsed in 0.33s.\n",
      "@> 65693 atoms and 1 coordinate set(s) were parsed in 0.31s.\n",
      "@> 67850 atoms and 1 coordinate set(s) were parsed in 0.35s.\n",
      "@> 66346 atoms and 1 coordinate set(s) were parsed in 0.33s.\n",
      "@> 67542 atoms and 1 coordinate set(s) were parsed in 0.38s.\n",
      "@> 67257 atoms and 1 coordinate set(s) were parsed in 0.38s.\n",
      "@> 66831 atoms and 1 coordinate set(s) were parsed in 0.34s.\n",
      "@> 17096 atoms and 1 coordinate set(s) were parsed in 0.09s.\n"
     ]
    }
   ],
   "source": [
    "dataset = PDBbind(name='dev_dataset', \n",
    "                index_fpath=DEV_INDEX_PATH, \n",
    "                raw_data_dir=DEV_DATA_DIR, \n",
    "                processed_data_dir=DEV_PROCESSED_DATA_DIR, \n",
    "                rec_elements=rec_atom_elements,\n",
    "                lig_elements=lig_atom_elements,\n",
    "                lig_box_padding=6, pocket_cutoff=4,\n",
    "                receptor_k=3,\n",
    "                dataset_size=None)"
   ]
  }
 ],
 "metadata": {
  "kernelspec": {
   "display_name": "Python 3.9.12 ('ligdiff')",
   "language": "python",
   "name": "python3"
  },
  "language_info": {
   "codemirror_mode": {
    "name": "ipython",
    "version": 3
   },
   "file_extension": ".py",
   "mimetype": "text/x-python",
   "name": "python",
   "nbconvert_exporter": "python",
   "pygments_lexer": "ipython3",
   "version": "3.9.13"
  },
  "orig_nbformat": 4,
  "vscode": {
   "interpreter": {
    "hash": "1841c7d7897d10fcccca7a26c44a7bad7b9c5fa25140710de6906efb1fba7b38"
   }
  }
 },
 "nbformat": 4,
 "nbformat_minor": 2
}
