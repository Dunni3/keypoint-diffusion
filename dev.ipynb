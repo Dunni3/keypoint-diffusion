{
 "cells": [
  {
   "cell_type": "code",
   "execution_count": 1,
   "metadata": {},
   "outputs": [
    {
     "name": "stderr",
     "output_type": "stream",
     "text": [
      "/home/ian/miniconda3/envs/ligdiff/lib/python3.9/site-packages/tqdm/auto.py:22: TqdmWarning: IProgress not found. Please update jupyter and ipywidgets. See https://ipywidgets.readthedocs.io/en/stable/user_install.html\n",
      "  from .autonotebook import tqdm as notebook_tqdm\n"
     ]
    }
   ],
   "source": [
    "import numpy as np\n",
    "import prody\n",
    "from pathlib import Path\n",
    "\n",
    "import rdkit\n",
    "\n",
    "import dgl\n",
    "import torch"
   ]
  },
  {
   "cell_type": "markdown",
   "metadata": {},
   "source": [
    "# define hard-coded filepaths"
   ]
  },
  {
   "cell_type": "code",
   "execution_count": 2,
   "metadata": {},
   "outputs": [],
   "source": [
    "train_index_path = '/home/ian/projects/mol_diffusion/ligdiff/data/PDBbind_processed/train_index.txt'\n",
    "data_dir = '/home/ian/projects/mol_diffusion/ligdiff/data/PDBbind/refined-set'\n",
    "\n",
    "data_dir = Path(data_dir)"
   ]
  },
  {
   "cell_type": "markdown",
   "metadata": {},
   "source": [
    "# get a list of all pdb_ids in the training set"
   ]
  },
  {
   "cell_type": "code",
   "execution_count": 3,
   "metadata": {},
   "outputs": [
    {
     "name": "stdout",
     "output_type": "stream",
     "text": [
      "5316\n"
     ]
    }
   ],
   "source": [
    "with open(train_index_path, 'r') as f:\n",
    "    pdb_ids = [line.strip() for line in f]\n",
    "\n",
    "print(len(pdb_ids))"
   ]
  },
  {
   "cell_type": "markdown",
   "metadata": {},
   "source": [
    "# get atom coordinates, charges, and types from a pdb id"
   ]
  },
  {
   "cell_type": "markdown",
   "metadata": {},
   "source": [
    "## get prody object from a pdb id"
   ]
  },
  {
   "cell_type": "code",
   "execution_count": 4,
   "metadata": {},
   "outputs": [
    {
     "name": "stderr",
     "output_type": "stream",
     "text": [
      "@> 4858 atoms and 1 coordinate set(s) were parsed in 0.03s.\n"
     ]
    }
   ],
   "source": [
    "def parse_protein(pdb_id: str, data_dir: Path = data_dir):\n",
    "    pdb_path = data_dir / pdb_id / f'{pdb_id}_protein.pdb'\n",
    "    pdb_path = str(pdb_path)\n",
    "    protein_atoms = prody.parsePDB(pdb_path)\n",
    "    return protein_atoms\n",
    "\n",
    "protein_atoms = parse_protein(pdb_ids[0])"
   ]
  },
  {
   "cell_type": "markdown",
   "metadata": {},
   "source": [
    "## get ligand atoms, atom types, and charges from a pdb id "
   ]
  },
  {
   "cell_type": "code",
   "execution_count": 5,
   "metadata": {},
   "outputs": [],
   "source": [
    "def parse_ligand(pdb_id: str, data_dir: Path = data_dir):\n",
    "    # construct path to ligand file\n",
    "    ligand_path = data_dir / pdb_id / f'{pdb_id}_ligand.sdf'\n",
    "\n",
    "    # read ligand into a rdkit mol\n",
    "    suppl = rdkit.Chem.SDMolSupplier(str(ligand_path), sanitize=False, removeHs=False)\n",
    "    ligands = list(suppl)\n",
    "    if len(ligands) > 1:\n",
    "        raise NotImplementedError('Multiple ligands found. Code is not written to handle multiple ligands.')\n",
    "    ligand = ligands[0]\n",
    "\n",
    "    # get atom positions\n",
    "    ligand_conformer = ligand.GetConformer()\n",
    "    atom_positions = ligand_conformer.GetPositions()\n",
    "\n",
    "    # get atom types and charges\n",
    "    atom_types = []\n",
    "    atom_charges = []\n",
    "    for atom in ligand.GetAtoms():\n",
    "        atom_types.append(atom.GetAtomicNum())\n",
    "        atom_charges.append(atom.GetFormalCharge()) # equibind code calls ComputeGasteigerCharges(mol), not sure why/if necessary\n",
    "\n",
    "    return ligand, atom_positions, atom_types, atom_charges\n",
    "\n",
    "\n",
    "ligand, lig_atom_positions, lig_atom_types, lig_atom_charges = parse_ligand(pdb_ids[0])"
   ]
  },
  {
   "cell_type": "markdown",
   "metadata": {},
   "source": [
    "## get the positons, types, and charges of all atoms within some cutoff radius of the ligand center of mass"
   ]
  },
  {
   "cell_type": "code",
   "execution_count": 6,
   "metadata": {},
   "outputs": [
    {
     "name": "stderr",
     "output_type": "stream",
     "text": [
      "@> 4858 atoms and 1 coordinate set(s) were parsed in 0.03s.\n"
     ]
    }
   ],
   "source": [
    "def get_pocket_atoms(protein_atoms, ligand_atom_positions, pocket_cutoff=8):\n",
    "    # note that pocket_cutoff is in units of angstroms\n",
    "\n",
    "    # TODO: maybe it would be better to find all atoms that are within some distance of any ligand atom\n",
    "    # this is more computataionally expensive but might give more accurate models\n",
    "\n",
    "    ligand_com = lig_atom_positions.mean(axis=0, keepdims=False)\n",
    "\n",
    "    pocket_atoms = protein_atoms.select(f'within {pocket_cutoff} of center', center=ligand_com)\n",
    "    pocket_atom_positions = pocket_atoms.getCoords()\n",
    "    pocket_atom_types = pocket_atoms.getElements()\n",
    "    pocket_atom_charges = pocket_atoms.getCharges()\n",
    "    return pocket_atom_positions, pocket_atom_types, pocket_atom_charges\n",
    "\n",
    "\n",
    "protein_atoms = parse_protein(pdb_ids[0])\n",
    "ligand, lig_atom_positions, lig_atom_types, lig_atom_charges = parse_ligand(pdb_ids[0])\n",
    "pocket_atom_positions, pocket_atom_types, pocket_atom_charges = get_pocket_atoms(protein_atoms, lig_atom_positions)"
   ]
  },
  {
   "cell_type": "markdown",
   "metadata": {},
   "source": [
    "# build binding pocket graph\n",
    "\n",
    "1. one-hot encode atom types\n",
    "2. determine edges for KNN graph"
   ]
  },
  {
   "cell_type": "code",
   "execution_count": 7,
   "metadata": {},
   "outputs": [
    {
     "name": "stderr",
     "output_type": "stream",
     "text": [
      "@> 4858 atoms and 1 coordinate set(s) were parsed in 0.02s.\n"
     ]
    },
    {
     "ename": "AttributeError",
     "evalue": "'numpy.ndarray' object has no attribute 'dim'",
     "output_type": "error",
     "traceback": [
      "\u001b[0;31m---------------------------------------------------------------------------\u001b[0m",
      "\u001b[0;31mAttributeError\u001b[0m                            Traceback (most recent call last)",
      "\u001b[1;32m/home/ian/projects/mol_diffusion/ligdiff/dev.ipynb Cell 14\u001b[0m in \u001b[0;36m<cell line: 14>\u001b[0;34m()\u001b[0m\n\u001b[1;32m     <a href='vscode-notebook-cell://ssh-remote%2Bmasuda/home/ian/projects/mol_diffusion/ligdiff/dev.ipynb#X21sdnNjb2RlLXJlbW90ZQ%3D%3D?line=10'>11</a>\u001b[0m ligand, lig_atom_positions, lig_atom_types, lig_atom_charges \u001b[39m=\u001b[39m parse_ligand(pdb_ids[\u001b[39m0\u001b[39m])\n\u001b[1;32m     <a href='vscode-notebook-cell://ssh-remote%2Bmasuda/home/ian/projects/mol_diffusion/ligdiff/dev.ipynb#X21sdnNjb2RlLXJlbW90ZQ%3D%3D?line=11'>12</a>\u001b[0m pocket_atom_positions, pocket_atom_types, pocket_atom_charges \u001b[39m=\u001b[39m get_pocket_atoms(protein_atoms, lig_atom_positions)\n\u001b[0;32m---> <a href='vscode-notebook-cell://ssh-remote%2Bmasuda/home/ian/projects/mol_diffusion/ligdiff/dev.ipynb#X21sdnNjb2RlLXJlbW90ZQ%3D%3D?line=13'>14</a>\u001b[0m g \u001b[39m=\u001b[39m build_pocket_graph(pocket_atom_positions, \u001b[39mNone\u001b[39;49;00m)\n",
      "\u001b[1;32m/home/ian/projects/mol_diffusion/ligdiff/dev.ipynb Cell 14\u001b[0m in \u001b[0;36mbuild_pocket_graph\u001b[0;34m(atom_positions, atom_features, k, edge_algorithm)\u001b[0m\n\u001b[1;32m      <a href='vscode-notebook-cell://ssh-remote%2Bmasuda/home/ian/projects/mol_diffusion/ligdiff/dev.ipynb#X21sdnNjb2RlLXJlbW90ZQ%3D%3D?line=0'>1</a>\u001b[0m \u001b[39mdef\u001b[39;00m \u001b[39mbuild_pocket_graph\u001b[39m(atom_positions, atom_features, k\u001b[39m=\u001b[39m\u001b[39m3\u001b[39m, edge_algorithm\u001b[39m=\u001b[39m\u001b[39m'\u001b[39m\u001b[39mbruteforce\u001b[39m\u001b[39m'\u001b[39m):\n\u001b[1;32m      <a href='vscode-notebook-cell://ssh-remote%2Bmasuda/home/ian/projects/mol_diffusion/ligdiff/dev.ipynb#X21sdnNjb2RlLXJlbW90ZQ%3D%3D?line=1'>2</a>\u001b[0m     \u001b[39m# atom_positions is an array of shape (N, 3) where N is the number of atoms\u001b[39;00m\n\u001b[1;32m      <a href='vscode-notebook-cell://ssh-remote%2Bmasuda/home/ian/projects/mol_diffusion/ligdiff/dev.ipynb#X21sdnNjb2RlLXJlbW90ZQ%3D%3D?line=2'>3</a>\u001b[0m     \u001b[39m# atom_features is an array of shape (N, d) where N is the number of atoms and d is the size of the feature vector for each atom\u001b[39;00m\n\u001b[1;32m      <a href='vscode-notebook-cell://ssh-remote%2Bmasuda/home/ian/projects/mol_diffusion/ligdiff/dev.ipynb#X21sdnNjb2RlLXJlbW90ZQ%3D%3D?line=3'>4</a>\u001b[0m \n\u001b[1;32m      <a href='vscode-notebook-cell://ssh-remote%2Bmasuda/home/ian/projects/mol_diffusion/ligdiff/dev.ipynb#X21sdnNjb2RlLXJlbW90ZQ%3D%3D?line=4'>5</a>\u001b[0m \n\u001b[1;32m      <a href='vscode-notebook-cell://ssh-remote%2Bmasuda/home/ian/projects/mol_diffusion/ligdiff/dev.ipynb#X21sdnNjb2RlLXJlbW90ZQ%3D%3D?line=5'>6</a>\u001b[0m     \u001b[39m# construct KNN graph\u001b[39;00m\n\u001b[0;32m----> <a href='vscode-notebook-cell://ssh-remote%2Bmasuda/home/ian/projects/mol_diffusion/ligdiff/dev.ipynb#X21sdnNjb2RlLXJlbW90ZQ%3D%3D?line=6'>7</a>\u001b[0m     g \u001b[39m=\u001b[39m dgl\u001b[39m.\u001b[39;49mknn_graph(atom_positions, k\u001b[39m=\u001b[39;49mk, algorithm\u001b[39m=\u001b[39;49medge_algorithm, dist\u001b[39m=\u001b[39;49m\u001b[39m'\u001b[39;49m\u001b[39meuclidean\u001b[39;49m\u001b[39m'\u001b[39;49m)\n\u001b[1;32m      <a href='vscode-notebook-cell://ssh-remote%2Bmasuda/home/ian/projects/mol_diffusion/ligdiff/dev.ipynb#X21sdnNjb2RlLXJlbW90ZQ%3D%3D?line=7'>8</a>\u001b[0m     \u001b[39mreturn\u001b[39;00m g\n",
      "File \u001b[0;32m~/miniconda3/envs/ligdiff/lib/python3.9/site-packages/dgl/transforms/functional.py:218\u001b[0m, in \u001b[0;36mknn_graph\u001b[0;34m(x, k, algorithm, dist)\u001b[0m\n\u001b[1;32m    216\u001b[0m     \u001b[39mreturn\u001b[39;00m _knn_graph_blas(x, k, dist\u001b[39m=\u001b[39mdist)\n\u001b[1;32m    217\u001b[0m \u001b[39melse\u001b[39;00m:\n\u001b[0;32m--> 218\u001b[0m     \u001b[39mif\u001b[39;00m F\u001b[39m.\u001b[39;49mndim(x) \u001b[39m==\u001b[39m \u001b[39m3\u001b[39m:\n\u001b[1;32m    219\u001b[0m         x_size \u001b[39m=\u001b[39m \u001b[39mtuple\u001b[39m(F\u001b[39m.\u001b[39mshape(x))\n\u001b[1;32m    220\u001b[0m         x \u001b[39m=\u001b[39m F\u001b[39m.\u001b[39mreshape(x, (x_size[\u001b[39m0\u001b[39m] \u001b[39m*\u001b[39m x_size[\u001b[39m1\u001b[39m], x_size[\u001b[39m2\u001b[39m]))\n",
      "File \u001b[0;32m~/miniconda3/envs/ligdiff/lib/python3.9/site-packages/dgl/backend/pytorch/tensor.py:77\u001b[0m, in \u001b[0;36mndim\u001b[0;34m(input)\u001b[0m\n\u001b[1;32m     76\u001b[0m \u001b[39mdef\u001b[39;00m \u001b[39mndim\u001b[39m(\u001b[39minput\u001b[39m):\n\u001b[0;32m---> 77\u001b[0m     \u001b[39mreturn\u001b[39;00m \u001b[39minput\u001b[39;49m\u001b[39m.\u001b[39;49mdim()\n",
      "\u001b[0;31mAttributeError\u001b[0m: 'numpy.ndarray' object has no attribute 'dim'"
     ]
    }
   ],
   "source": [
    "def build_pocket_graph(atom_positions, atom_features, k=3, edge_algorithm='bruteforce'):\n",
    "    # atom_positions is an array of shape (N, 3) where N is the number of atoms\n",
    "    # atom_features is an array of shape (N, d) where N is the number of atoms and d is the size of the feature vector for each atom\n",
    "\n",
    "\n",
    "    # construct KNN graph\n",
    "    g = dgl.knn_graph(atom_positions, k=k, algorithm=edge_algorithm, dist='euclidean')\n",
    "    return g\n",
    "\n",
    "protein_atoms = parse_protein(pdb_ids[0])\n",
    "ligand, lig_atom_positions, lig_atom_types, lig_atom_charges = parse_ligand(pdb_ids[0])\n",
    "pocket_atom_positions, pocket_atom_types, pocket_atom_charges = get_pocket_atoms(protein_atoms, lig_atom_positions)\n",
    "\n",
    "g = build_pocket_graph(pocket_atom_positions, None)"
   ]
  }
 ],
 "metadata": {
  "kernelspec": {
   "display_name": "Python 3.9.12 ('ligdiff')",
   "language": "python",
   "name": "python3"
  },
  "language_info": {
   "codemirror_mode": {
    "name": "ipython",
    "version": 3
   },
   "file_extension": ".py",
   "mimetype": "text/x-python",
   "name": "python",
   "nbconvert_exporter": "python",
   "pygments_lexer": "ipython3",
   "version": "3.9.13"
  },
  "orig_nbformat": 4,
  "vscode": {
   "interpreter": {
    "hash": "1841c7d7897d10fcccca7a26c44a7bad7b9c5fa25140710de6906efb1fba7b38"
   }
  }
 },
 "nbformat": 4,
 "nbformat_minor": 2
}
