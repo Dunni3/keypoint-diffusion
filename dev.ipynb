{
 "cells": [
  {
   "cell_type": "code",
   "execution_count": 40,
   "metadata": {},
   "outputs": [],
   "source": [
    "import numpy as np\n",
    "import scipy.spatial as spa\n",
    "import prody\n",
    "from pathlib import Path\n",
    "import importlib\n",
    "from typing import Union\n",
    "\n",
    "import rdkit\n",
    "\n",
    "import dgl\n",
    "import torch"
   ]
  },
  {
   "cell_type": "markdown",
   "metadata": {},
   "source": [
    "# define hard-coded filepaths"
   ]
  },
  {
   "cell_type": "code",
   "execution_count": 2,
   "metadata": {},
   "outputs": [],
   "source": [
    "DEV_INDEX_PATH = '/home/ian/projects/mol_diffusion/ligdiff/data/PDBbind_processed/train_index_mini.txt'\n",
    "DEV_DATA_DIR = '/home/ian/projects/mol_diffusion/ligdiff/data/PDBbind/refined-set'\n",
    "\n",
    "DEV_DATA_DIR = Path(DEV_DATA_DIR)"
   ]
  },
  {
   "cell_type": "markdown",
   "metadata": {},
   "source": [
    "# import code for processing pdbbind"
   ]
  },
  {
   "cell_type": "code",
   "execution_count": 3,
   "metadata": {},
   "outputs": [],
   "source": [
    "try:\n",
    "    importlib.reload(process_pdbbind)\n",
    "except NameError:\n",
    "    import data_processing.pdbbind_processing as process_pdbbind\n",
    "\n",
    "parse_protein = process_pdbbind.parse_protein\n",
    "parse_ligand = process_pdbbind.parse_ligand\n",
    "get_pocket_atoms = process_pdbbind.get_pocket_atoms"
   ]
  },
  {
   "cell_type": "markdown",
   "metadata": {},
   "source": [
    "# define dataset class for PDB"
   ]
  },
  {
   "cell_type": "code",
   "execution_count": 14,
   "metadata": {},
   "outputs": [],
   "source": [
    "class PDBbind(dgl.data.DGLDataset):\n",
    "\n",
    "    def __init__(self, name: str, index_fpath: str, \n",
    "        raw_data_dir: str,\n",
    "        processed_data_dir: str,\n",
    "        pocket_cutoff: Union[int, float] = 6,\n",
    "        receptor_k: int = 3):\n",
    "\n",
    "        self.index_fpath: Path = Path(index_fpath)\n",
    "        self.raw_data_dir: Path = Path(raw_data_dir)\n",
    "        self.processed_data_dir: Path = Path(processed_data_dir)\n",
    "\n",
    "        # hyperparameters for protein graph\n",
    "        self.receptor_k: int = receptor_k\n",
    "        self.pocket_cutoff: Union[int, float] = pocket_cutoff\n",
    "\n",
    "\n",
    "\n",
    "        super().__init__(name=name) # this has to happen last because this will call self.process()\n",
    "\n",
    "    def __getitem__(self, i):\n",
    "        pass\n",
    "\n",
    "    def __len__(self):\n",
    "        return 1\n",
    "\n",
    "    def process(self):\n",
    "\n",
    "        # TODO: implement logic that only goes makes the graph objects if they don't already exist\n",
    "\n",
    "        # get pdb ids from index file\n",
    "        with open(self.index_fpath, 'r') as f:\n",
    "            pdb_ids = [line.strip() for line in f]\n",
    "\n",
    "        # we will want to do this paralellized over PDBs\n",
    "        # but for now, a simple for loop will do\n",
    "        for pdb_id in pdb_ids:\n",
    "\n",
    "            # get all atoms from pdb file\n",
    "            pdb_atoms: prody.AtomGroup = parse_protein(pdb_id)\n",
    "\n",
    "            # get rdkit molecule from ligand, as well as atom types and charges\n",
    "            ligand, lig_atom_positions, lig_atom_types, lig_atom_charges \\\n",
    "                 = parse_ligand(pdb_id)\n",
    "\n",
    "            # get all protein atoms that form the binding pocket\n",
    "            pocket_atom_positions, pocket_atom_types, pocket_atom_charges \\\n",
    "                 = get_pocket_atoms(pdb_atoms, lig_atom_positions, cutoff=6)\n",
    "        \n"
   ]
  },
  {
   "cell_type": "markdown",
   "metadata": {},
   "source": [
    "# method for finding binding pocket atoms"
   ]
  },
  {
   "cell_type": "code",
   "execution_count": 49,
   "metadata": {},
   "outputs": [
    {
     "name": "stderr",
     "output_type": "stream",
     "text": [
      "@> 4858 atoms and 1 coordinate set(s) were parsed in 0.02s.\n"
     ]
    }
   ],
   "source": [
    "test_pdb_id = '1n4k'\n",
    "protein_atoms = parse_protein(test_pdb_id, data_dir=DEV_DATA_DIR)\n",
    "ligand, lig_atom_positions, lig_atom_types, lig_atom_charges = parse_ligand(test_pdb_id, data_dir=DEV_DATA_DIR)\n",
    "\n",
    "BOX_PADDING = 15 # angstroms?? the units of this should be the same as the units of the PDB coordinates which, idk if that is standardized\n",
    "POCKET_ATOM_CUTOFF = 4 # angstroms\n",
    "\n",
    "# get bounding box of ligand\n",
    "lower_corner = lig_atom_positions.min(axis=0, keepdim=True).values\n",
    "upper_corner = lig_atom_positions.max(axis=0, keepdim=True).values\n",
    "\n",
    "# get padded bounding box\n",
    "lower_corner -= BOX_PADDING\n",
    "upper_corner += BOX_PADDING\n",
    "\n",
    "# get coordinates and atom types of all protein atoms \n",
    "# TODO: fix parse_protein so that it selects the *atoms we actually want* from the protein structure (waters? metals? etc.)... i.e., selectiion logic will be contained to parse_protein\n",
    "protein_atom_positions = protein_atoms.getCoords()\n",
    "protein_atom_elements = protein_atoms.getElements()\n",
    "protein_atom_charges = protein_atoms.getCharges()\n",
    "\n",
    "# convert protein atom positions to pytorch tensor\n",
    "protein_atom_positions = torch.tensor(protein_atom_positions)\n",
    "\n",
    "# find all protein atoms in padded bounding box\n",
    "above_lower_corner = (protein_atom_positions >= lower_corner).all(axis=1)\n",
    "below_upper_corner = (protein_atom_positions <= upper_corner).all(axis=1)\n",
    "bounding_box_mask = above_lower_corner & below_upper_corner # boolean array with length equal to number of atoms in receptor structure, indicating whether each atom is in the \"bounding box\"\n",
    "\n",
    "# get positions + features for bounding box atoms\n",
    "box_atom_positions = protein_atom_positions[bounding_box_mask]\n",
    "box_atom_elements = protein_atom_elements[bounding_box_mask]\n",
    "box_atom_charges = protein_atom_charges[bounding_box_mask]\n",
    "\n",
    "# find atoms that come within a threshold distance from a ligand atom\n",
    "n_box_atoms = box_atom_positions.shape[0]\n",
    "all_distances = spa.distance_matrix(box_atom_positions, lig_atom_positions)\n",
    "# NOTE: even though the argumenets to distance_matrix were pytorch tensors, the returned array is a numpy array\n",
    "min_dist_to_ligand = all_distances.min(axis=1)\n",
    "pocket_atom_mask = min_dist_to_ligand < POCKET_ATOM_CUTOFF\n",
    "\n",
    "# get positions + features for pocket atoms\n",
    "pocket_atom_positions = box_atom_positions[pocket_atom_mask]\n",
    "pocket_atom_elements = box_atom_elements[pocket_atom_mask]\n",
    "pocket_atom_charges = box_atom_charges[pocket_atom_mask]\n",
    "\n",
    "# get interface points"
   ]
  },
  {
   "cell_type": "code",
   "execution_count": 47,
   "metadata": {},
   "outputs": [
    {
     "data": {
      "text/plain": [
       "100"
      ]
     },
     "execution_count": 47,
     "metadata": {},
     "output_type": "execute_result"
    }
   ],
   "source": [
    "pocket_atom_mask.sum()"
   ]
  },
  {
   "cell_type": "code",
   "execution_count": 37,
   "metadata": {},
   "outputs": [
    {
     "data": {
      "text/plain": [
       "torch.Size([1929, 3])"
      ]
     },
     "execution_count": 37,
     "metadata": {},
     "output_type": "execute_result"
    }
   ],
   "source": [
    "bounding_box_atoms.shape"
   ]
  },
  {
   "cell_type": "code",
   "execution_count": 28,
   "metadata": {},
   "outputs": [
    {
     "data": {
      "text/plain": [
       "torch.Size([4858])"
      ]
     },
     "execution_count": 28,
     "metadata": {},
     "output_type": "execute_result"
    }
   ],
   "source": [
    "(protein_atom_positions > lower_corner).all(axis=1).shape"
   ]
  },
  {
   "cell_type": "markdown",
   "metadata": {},
   "source": [
    "# build binding pocket graph\n",
    "\n",
    "1. one-hot encode atom types\n",
    "2. determine edges for KNN graph"
   ]
  },
  {
   "cell_type": "code",
   "execution_count": 17,
   "metadata": {},
   "outputs": [
    {
     "ename": "TypeError",
     "evalue": "parse_protein() missing 1 required positional argument: 'data_dir'",
     "output_type": "error",
     "traceback": [
      "\u001b[0;31m---------------------------------------------------------------------------\u001b[0m",
      "\u001b[0;31mTypeError\u001b[0m                                 Traceback (most recent call last)",
      "\u001b[1;32m/home/ian/projects/mol_diffusion/ligdiff/dev.ipynb Cell 9\u001b[0m in \u001b[0;36m<cell line: 11>\u001b[0;34m()\u001b[0m\n\u001b[1;32m      <a href='vscode-notebook-cell://ssh-remote%2Bmasuda/home/ian/projects/mol_diffusion/ligdiff/dev.ipynb#X16sdnNjb2RlLXJlbW90ZQ%3D%3D?line=7'>8</a>\u001b[0m     \u001b[39mreturn\u001b[39;00m g\n\u001b[1;32m     <a href='vscode-notebook-cell://ssh-remote%2Bmasuda/home/ian/projects/mol_diffusion/ligdiff/dev.ipynb#X16sdnNjb2RlLXJlbW90ZQ%3D%3D?line=9'>10</a>\u001b[0m test_pdb_id \u001b[39m=\u001b[39m \u001b[39m'\u001b[39m\u001b[39m1n4k\u001b[39m\u001b[39m'\u001b[39m\n\u001b[0;32m---> <a href='vscode-notebook-cell://ssh-remote%2Bmasuda/home/ian/projects/mol_diffusion/ligdiff/dev.ipynb#X16sdnNjb2RlLXJlbW90ZQ%3D%3D?line=10'>11</a>\u001b[0m protein_atoms \u001b[39m=\u001b[39m parse_protein(test_pdb_id)\n\u001b[1;32m     <a href='vscode-notebook-cell://ssh-remote%2Bmasuda/home/ian/projects/mol_diffusion/ligdiff/dev.ipynb#X16sdnNjb2RlLXJlbW90ZQ%3D%3D?line=11'>12</a>\u001b[0m ligand, lig_atom_positions, lig_atom_types, lig_atom_charges \u001b[39m=\u001b[39m parse_ligand(test_pdb_id)\n\u001b[1;32m     <a href='vscode-notebook-cell://ssh-remote%2Bmasuda/home/ian/projects/mol_diffusion/ligdiff/dev.ipynb#X16sdnNjb2RlLXJlbW90ZQ%3D%3D?line=12'>13</a>\u001b[0m pocket_atom_positions, pocket_atom_types, pocket_atom_charges \u001b[39m=\u001b[39m get_pocket_atoms(protein_atoms, lig_atom_positions, cutoff\u001b[39m=\u001b[39m\u001b[39m6\u001b[39m)\n",
      "\u001b[0;31mTypeError\u001b[0m: parse_protein() missing 1 required positional argument: 'data_dir'"
     ]
    }
   ],
   "source": [
    "def build_pocket_graph(atom_positions, atom_features, k=3, edge_algorithm='bruteforce'):\n",
    "    # atom_positions is an array of shape (N, 3) where N is the number of atoms\n",
    "    # atom_features is an array of shape (N, d) where N is the number of atoms and d is the size of the feature vector for each atom\n",
    "\n",
    "\n",
    "    # construct KNN graph\n",
    "    g = dgl.knn_graph(atom_positions, k=k, algorithm=edge_algorithm, dist='euclidean')\n",
    "    return g\n",
    "\n",
    "test_pdb_id = '1n4k'\n",
    "protein_atoms = parse_protein(test_pdb_id, )\n",
    "ligand, lig_atom_positions, lig_atom_types, lig_atom_charges = parse_ligand(test_pdb_id)\n",
    "pocket_atom_positions, pocket_atom_types, pocket_atom_charges = get_pocket_atoms(protein_atoms, lig_atom_positions, cutoff=6)\n",
    "\n",
    "g = build_pocket_graph(pocket_atom_positions, None)"
   ]
  }
 ],
 "metadata": {
  "kernelspec": {
   "display_name": "Python 3.9.12 ('ligdiff')",
   "language": "python",
   "name": "python3"
  },
  "language_info": {
   "codemirror_mode": {
    "name": "ipython",
    "version": 3
   },
   "file_extension": ".py",
   "mimetype": "text/x-python",
   "name": "python",
   "nbconvert_exporter": "python",
   "pygments_lexer": "ipython3",
   "version": "3.9.13"
  },
  "orig_nbformat": 4,
  "vscode": {
   "interpreter": {
    "hash": "1841c7d7897d10fcccca7a26c44a7bad7b9c5fa25140710de6906efb1fba7b38"
   }
  }
 },
 "nbformat": 4,
 "nbformat_minor": 2
}
