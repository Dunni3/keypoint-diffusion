{
 "cells": [
  {
   "cell_type": "code",
   "execution_count": 20,
   "metadata": {},
   "outputs": [],
   "source": [
    "import numpy as np\n",
    "import scipy.spatial as spa\n",
    "import scipy \n",
    "import prody\n",
    "from pathlib import Path\n",
    "import importlib\n",
    "from typing import Union, List, Dict\n",
    "\n",
    "import rdkit\n",
    "\n",
    "import dgl\n",
    "import torch\n",
    "\n",
    "import yaml\n",
    "\n",
    "%matplotlib widget\n",
    "from matplotlib import pyplot as plt"
   ]
  },
  {
   "cell_type": "markdown",
   "metadata": {},
   "source": [
    "# define hard-coded filepaths"
   ]
  },
  {
   "cell_type": "code",
   "execution_count": 25,
   "metadata": {},
   "outputs": [],
   "source": [
    "DEV_CONFIG_FILE = \"configs/dev_config.yml\""
   ]
  },
  {
   "cell_type": "markdown",
   "metadata": {},
   "source": [
    "# import code for processing pdbbind"
   ]
  },
  {
   "cell_type": "code",
   "execution_count": 24,
   "metadata": {},
   "outputs": [],
   "source": [
    "try:\n",
    "    importlib.reload(pdbbind_dataset)\n",
    "except NameError:\n",
    "    import data_processing.pdbbind_dataset as pdbbind_dataset\n",
    "\n",
    "\n",
    "PDBbind = pdbbind_dataset.PDBbind"
   ]
  },
  {
   "cell_type": "code",
   "execution_count": 23,
   "metadata": {},
   "outputs": [
    {
     "name": "stderr",
     "output_type": "stream",
     "text": [
      "@> 4858 atoms and 1 coordinate set(s) were parsed in 0.02s.\n"
     ]
    }
   ],
   "source": [
    "with open(DEV_CONFIG_FILE, 'r') as f:\n",
    "    config = yaml.load(f, Loader=yaml.FullLoader)\n",
    "\n",
    "dataset = PDBbind(name='train', **config['dataset_config'])"
   ]
  }
 ],
 "metadata": {
  "kernelspec": {
   "display_name": "Python 3.9.12 ('ligdiff')",
   "language": "python",
   "name": "python3"
  },
  "language_info": {
   "codemirror_mode": {
    "name": "ipython",
    "version": 3
   },
   "file_extension": ".py",
   "mimetype": "text/x-python",
   "name": "python",
   "nbconvert_exporter": "python",
   "pygments_lexer": "ipython3",
   "version": "3.9.13"
  },
  "orig_nbformat": 4,
  "vscode": {
   "interpreter": {
    "hash": "1841c7d7897d10fcccca7a26c44a7bad7b9c5fa25140710de6906efb1fba7b38"
   }
  }
 },
 "nbformat": 4,
 "nbformat_minor": 2
}
